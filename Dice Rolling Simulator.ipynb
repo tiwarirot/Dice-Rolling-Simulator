{
 "cells": [
  {
   "cell_type": "code",
   "execution_count": 1,
   "metadata": {},
   "outputs": [],
   "source": [
    "import random"
   ]
  },
  {
   "cell_type": "code",
   "execution_count": 11,
   "metadata": {},
   "outputs": [
    {
     "name": "stdout",
     "output_type": "stream",
     "text": [
      "Enter your name: Rohit\n",
      "Enter the minimum value of the dice: 1\n",
      "Enter the maximum value of the dice: 6\n",
      "1\n",
      "Want to roll the dice again?y\n",
      "1\n",
      "Want to roll the dice again?y\n",
      "4\n",
      "Want to roll the dice again?y\n",
      "1\n",
      "Want to roll the dice again?n\n"
     ]
    }
   ],
   "source": [
    "try:\n",
    "    Player = input(\"Enter your name: \")\n",
    "    min_value = int(input(\"Enter the minimum value of the dice: \"))\n",
    "    max_value = int(input(\"Enter the maximum value of the dice: \"))\n",
    "except:\n",
    "    print(\"Input invalid program will revert to defaults.\")\n",
    "    min_value = 1\n",
    "    max_value = 6\n",
    "chance = \"True\"\n",
    "while chance:\n",
    "    print(random.randint(min_value, max_value))\n",
    "    another_chance = input(\"Want to roll the dice again?\")\n",
    "    if another_chance.lower()==\"yes\" or another_chance.lower() == \"y\":\n",
    "        continue\n",
    "    else:\n",
    "        break"
   ]
  },
  {
   "cell_type": "code",
   "execution_count": null,
   "metadata": {},
   "outputs": [],
   "source": []
  }
 ],
 "metadata": {
  "kernelspec": {
   "display_name": "Python 3",
   "language": "python",
   "name": "python3"
  },
  "language_info": {
   "codemirror_mode": {
    "name": "ipython",
    "version": 3
   },
   "file_extension": ".py",
   "mimetype": "text/x-python",
   "name": "python",
   "nbconvert_exporter": "python",
   "pygments_lexer": "ipython3",
   "version": "3.6.5"
  }
 },
 "nbformat": 4,
 "nbformat_minor": 2
}
